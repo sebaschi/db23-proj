{
 "cells": [
  {
   "cell_type": "code",
   "execution_count": 1,
   "outputs": [],
   "source": [
    "import pandas as pd\n",
    "from datetime import datetime as dt\n",
    "\n",
    "import integrate as intr\n"
   ],
   "metadata": {
    "collapsed": false,
    "ExecuteTime": {
     "end_time": "2023-12-03T12:17:02.386525Z",
     "start_time": "2023-12-03T12:17:01.722469Z"
    }
   },
   "id": "be55b25929d95559"
  },
  {
   "cell_type": "code",
   "execution_count": 2,
   "outputs": [
    {
     "name": "stderr",
     "output_type": "stream",
     "text": [
      "/Users/seb/Projects/repos/group-1/src/integrate.py:62: SettingWithCopyWarning: \n",
      "A value is trying to be set on a copy of a slice from a DataFrame.\n",
      "Try using .loc[row_indexer,col_indexer] = value instead\n",
      "\n",
      "See the caveats in the documentation: https://pandas.pydata.org/pandas-docs/stable/user_guide/indexing.html#returning-a-view-versus-a-copy\n",
      "  miv_df_cols_dropped['Weekday_en'] = days.map(lambda x: weekday_names[x])\n"
     ]
    }
   ],
   "source": [
    "\n",
    "miv_df = intr.process_miv_data()\n",
    "fb_data = intr.process_foot_bike_data()"
   ],
   "metadata": {
    "collapsed": false,
    "ExecuteTime": {
     "end_time": "2023-12-03T12:20:31.968179Z",
     "start_time": "2023-12-03T12:17:04.199209Z"
    }
   },
   "id": "dd3831953afdeb72"
  },
  {
   "cell_type": "code",
   "execution_count": null,
   "outputs": [],
   "source": [
    "test_df = miv_df\n"
   ],
   "metadata": {
    "collapsed": false
   },
   "id": "14471cd78389ce4d"
  },
  {
   "cell_type": "code",
   "execution_count": null,
   "outputs": [],
   "source": [
    "test_df.dtypes\n",
    "date_object = pd.to_datetime(test_df['Date'])\n"
   ],
   "metadata": {
    "collapsed": false
   },
   "id": "c70d21adef38fd68"
  },
  {
   "cell_type": "code",
   "execution_count": null,
   "outputs": [],
   "source": [
    "test_df['Weekday_Name']"
   ],
   "metadata": {
    "collapsed": false
   },
   "id": "d0df3c0ef49e8061"
  },
  {
   "cell_type": "code",
   "execution_count": 3,
   "outputs": [
    {
     "name": "stdout",
     "output_type": "stream",
     "text": [
      "u_string RoadTrafficAccidentLocations.json\n",
      "Filepath: datasets/RoadTrafficAccidentLocations.json\n"
     ]
    },
    {
     "name": "stderr",
     "output_type": "stream",
     "text": [
      "/Users/seb/Projects/repos/group-1/src/integrate.py:78: SettingWithCopyWarning: \n",
      "A value is trying to be set on a copy of a slice from a DataFrame\n",
      "\n",
      "See the caveats in the documentation: https://pandas.pydata.org/pandas-docs/stable/user_guide/indexing.html#returning-a-view-versus-a-copy\n",
      "  cleaned_acc_df.rename(columns={\n"
     ]
    }
   ],
   "source": [
    "acc_df = intr.process_accident_data(True)"
   ],
   "metadata": {
    "collapsed": false,
    "ExecuteTime": {
     "end_time": "2023-12-03T12:20:47.066579Z",
     "start_time": "2023-12-03T12:20:31.964275Z"
    }
   },
   "id": "f86bc612060b17a4"
  },
  {
   "cell_type": "code",
   "execution_count": null,
   "outputs": [],
   "source": [
    "acc_df.head()\n",
    "acc_df['AccidentWeekDay_en'].unique()\n",
    "#acc_df.dtypes\n",
    "\n"
   ],
   "metadata": {
    "collapsed": false
   },
   "id": "6affbeea6c7cf3ef"
  },
  {
   "cell_type": "code",
   "execution_count": 4,
   "outputs": [
    {
     "name": "stdout",
     "output_type": "stream",
     "text": [
      "Accident Columns:\n",
      "AccidentUID                      object\n",
      "AccidentHour                     object\n",
      "AccidentYear                     object\n",
      "AccidentWeekDay_en               object\n",
      "AccidentType                     object\n",
      "AccidentSeverityCategory         object\n",
      "AccidentInvolvingPedestrian      object\n",
      "AccidentInvolvingBicycle         object\n",
      "AccidentInvolvingMotorcycle      object\n",
      "RoadType                         object\n",
      "RoadType_en                      object\n",
      "EKoord                           object\n",
      "NKoord                           object\n",
      "AccidentMonth                    object\n",
      "geometry                       geometry\n",
      "dtype: object\n",
      "\n",
      "MIV Columns:\n",
      "MSID                   object\n",
      "ZSID                   object\n",
      "Achse                  object\n",
      "EKoord                float64\n",
      "NKoord                float64\n",
      "Richtung               object\n",
      "AnzFahrzeuge          float64\n",
      "AnzFahrzeugeStatus     object\n",
      "Date                   object\n",
      "Hrs                    object\n",
      "Weekday_en             object\n",
      "dtype: object\n",
      "\n",
      "FB Cols:\n",
      "OST             int64\n",
      "NORD            int64\n",
      "DATE           object\n",
      "HRS            object\n",
      "VELO_IN       float64\n",
      "VELO_OUT      float64\n",
      "FUSS_IN       float64\n",
      "FUSS_OUT      float64\n",
      "Weekday_en     object\n",
      "ID              int64\n",
      "dtype: object\n"
     ]
    }
   ],
   "source": [
    "print(\"Accident Columns:\")\n",
    "print(acc_df.dtypes)\n",
    "print()\n",
    "print(\"MIV Columns:\")\n",
    "print(miv_df.dtypes)\n",
    "print()\n",
    "print(\"FB Cols:\")\n",
    "print(fb_data.dtypes)"
   ],
   "metadata": {
    "collapsed": false,
    "ExecuteTime": {
     "end_time": "2023-12-03T12:20:47.067419Z",
     "start_time": "2023-12-03T12:20:47.063397Z"
    }
   },
   "id": "242041cd369d8454"
  },
  {
   "cell_type": "code",
   "execution_count": null,
   "outputs": [],
   "source": [
    "acc_df['ID'] = acc_df.index +1\n",
    "acc_df[('ID')]"
   ],
   "metadata": {
    "collapsed": false
   },
   "id": "1841925ee109a417"
  },
  {
   "cell_type": "code",
   "execution_count": 10,
   "outputs": [
    {
     "name": "stdout",
     "output_type": "stream",
     "text": [
      "MIV unqiue: 0           2683009.89\n",
      "1           2683009.89\n",
      "2           2683009.89\n",
      "3           2683009.89\n",
      "4           2683009.89\n",
      "               ...    \n",
      "16699185    2682704.50\n",
      "16699186    2682704.50\n",
      "16699187    2682704.50\n",
      "16699188    2682704.50\n",
      "16699189    2682704.50\n",
      "Name: EKoord, Length: 16699190, dtype: float64\n",
      "Acc unique: <bound method Series.unique of 0        rt433\n",
      "1        rt433\n",
      "2        rt439\n",
      "3        rt433\n",
      "4        rt433\n",
      "         ...  \n",
      "55821    rt432\n",
      "55822    rt433\n",
      "55823    rt433\n",
      "55824    rt433\n",
      "55825    rt432\n",
      "Name: RoadType, Length: 55826, dtype: object>\n",
      "FB unique:  0          2012-01-01\n",
      "1          2012-01-01\n",
      "2          2012-01-01\n",
      "3          2012-01-01\n",
      "4          2012-01-01\n",
      "              ...    \n",
      "3011488    2019-07-13\n",
      "3011489    2019-07-13\n",
      "3011490    2019-07-13\n",
      "3011491    2019-07-13\n",
      "3011492    2019-07-13\n",
      "Name: DATE, Length: 3011493, dtype: object\n"
     ]
    }
   ],
   "source": [
    "print(\"MIV unqiue:\", miv_df['EKoord'])\n",
    "print(\"Acc unique:\", acc_df['RoadType'].unique)\n",
    "print(\"FB unique: \", fb_data['DATE'])\n"
   ],
   "metadata": {
    "collapsed": false,
    "ExecuteTime": {
     "end_time": "2023-12-03T15:03:13.580284Z",
     "start_time": "2023-12-03T15:03:13.574959Z"
    }
   },
   "id": "f6d752ea17eda341"
  },
  {
   "cell_type": "code",
   "execution_count": 5,
   "outputs": [
    {
     "data": {
      "text/plain": "                        AccidentUID AccidentHour AccidentYear  \\\n0  A2D2677533867004E0430A865E337004           00         2011   \n1  9FD6441F802C20A6E0430A865E3320A6           01         2011   \n2  9FDA0DC4856A6094E0430A865E336094           02         2011   \n3  A3B66E42396E6000E0430A865E336000           02         2011   \n4  9FDA0DBE8CCE9096E0430A865E339096           03         2011   \n\n  AccidentWeekDay_en AccidentType AccidentSeverityCategory  \\\n0           Saturday          at0                      as4   \n1           Saturday          at0                      as3   \n2           Saturday          at0                      as4   \n3           Saturday          at5                      as3   \n4           Saturday          at0                      as4   \n\n  AccidentInvolvingPedestrian AccidentInvolvingBicycle  \\\n0                       false                    false   \n1                       false                     true   \n2                       false                    false   \n3                       false                    false   \n4                       false                    false   \n\n  AccidentInvolvingMotorcycle RoadType RoadType_en   EKoord   NKoord  \\\n0                       false    rt433  Minor road  2684605  1245194   \n1                       false    rt433  Minor road  2682382  1246980   \n2                       false    rt439       Other  2682791  1247749   \n3                       false    rt433  Minor road  2681199  1247102   \n4                       false    rt433  Minor road  2682479  1250690   \n\n  AccidentMonth                            geometry  \n0             1  POINT Z (8.55841 47.35217 0.00000)  \n1             1  POINT Z (8.52932 47.36851 0.00000)  \n2             1  POINT Z (8.53488 47.37538 0.00000)  \n3             1  POINT Z (8.51368 47.36976 0.00000)  \n4             1  POINT Z (8.53129 47.40186 0.00000)  ",
      "text/html": "<div>\n<style scoped>\n    .dataframe tbody tr th:only-of-type {\n        vertical-align: middle;\n    }\n\n    .dataframe tbody tr th {\n        vertical-align: top;\n    }\n\n    .dataframe thead th {\n        text-align: right;\n    }\n</style>\n<table border=\"1\" class=\"dataframe\">\n  <thead>\n    <tr style=\"text-align: right;\">\n      <th></th>\n      <th>AccidentUID</th>\n      <th>AccidentHour</th>\n      <th>AccidentYear</th>\n      <th>AccidentWeekDay_en</th>\n      <th>AccidentType</th>\n      <th>AccidentSeverityCategory</th>\n      <th>AccidentInvolvingPedestrian</th>\n      <th>AccidentInvolvingBicycle</th>\n      <th>AccidentInvolvingMotorcycle</th>\n      <th>RoadType</th>\n      <th>RoadType_en</th>\n      <th>EKoord</th>\n      <th>NKoord</th>\n      <th>AccidentMonth</th>\n      <th>geometry</th>\n    </tr>\n  </thead>\n  <tbody>\n    <tr>\n      <th>0</th>\n      <td>A2D2677533867004E0430A865E337004</td>\n      <td>00</td>\n      <td>2011</td>\n      <td>Saturday</td>\n      <td>at0</td>\n      <td>as4</td>\n      <td>false</td>\n      <td>false</td>\n      <td>false</td>\n      <td>rt433</td>\n      <td>Minor road</td>\n      <td>2684605</td>\n      <td>1245194</td>\n      <td>1</td>\n      <td>POINT Z (8.55841 47.35217 0.00000)</td>\n    </tr>\n    <tr>\n      <th>1</th>\n      <td>9FD6441F802C20A6E0430A865E3320A6</td>\n      <td>01</td>\n      <td>2011</td>\n      <td>Saturday</td>\n      <td>at0</td>\n      <td>as3</td>\n      <td>false</td>\n      <td>true</td>\n      <td>false</td>\n      <td>rt433</td>\n      <td>Minor road</td>\n      <td>2682382</td>\n      <td>1246980</td>\n      <td>1</td>\n      <td>POINT Z (8.52932 47.36851 0.00000)</td>\n    </tr>\n    <tr>\n      <th>2</th>\n      <td>9FDA0DC4856A6094E0430A865E336094</td>\n      <td>02</td>\n      <td>2011</td>\n      <td>Saturday</td>\n      <td>at0</td>\n      <td>as4</td>\n      <td>false</td>\n      <td>false</td>\n      <td>false</td>\n      <td>rt439</td>\n      <td>Other</td>\n      <td>2682791</td>\n      <td>1247749</td>\n      <td>1</td>\n      <td>POINT Z (8.53488 47.37538 0.00000)</td>\n    </tr>\n    <tr>\n      <th>3</th>\n      <td>A3B66E42396E6000E0430A865E336000</td>\n      <td>02</td>\n      <td>2011</td>\n      <td>Saturday</td>\n      <td>at5</td>\n      <td>as3</td>\n      <td>false</td>\n      <td>false</td>\n      <td>false</td>\n      <td>rt433</td>\n      <td>Minor road</td>\n      <td>2681199</td>\n      <td>1247102</td>\n      <td>1</td>\n      <td>POINT Z (8.51368 47.36976 0.00000)</td>\n    </tr>\n    <tr>\n      <th>4</th>\n      <td>9FDA0DBE8CCE9096E0430A865E339096</td>\n      <td>03</td>\n      <td>2011</td>\n      <td>Saturday</td>\n      <td>at0</td>\n      <td>as4</td>\n      <td>false</td>\n      <td>false</td>\n      <td>false</td>\n      <td>rt433</td>\n      <td>Minor road</td>\n      <td>2682479</td>\n      <td>1250690</td>\n      <td>1</td>\n      <td>POINT Z (8.53129 47.40186 0.00000)</td>\n    </tr>\n  </tbody>\n</table>\n</div>"
     },
     "execution_count": 5,
     "metadata": {},
     "output_type": "execute_result"
    }
   ],
   "source": [
    "acc_df.head()"
   ],
   "metadata": {
    "collapsed": false,
    "ExecuteTime": {
     "end_time": "2023-12-03T12:32:55.249260Z",
     "start_time": "2023-12-03T12:32:55.235008Z"
    }
   },
   "id": "a159cafa9c227b88"
  },
  {
   "cell_type": "code",
   "execution_count": null,
   "outputs": [],
   "source": [
    "from sqlalchemy import create_engine\n",
    "from geoalchemy2 import Geometry, WKTElement\n",
    "import geopandas as gpd\n",
    "from shapely import wkt\n",
    "\n",
    "db_url = f'postgresql://seb:@localhost:5432/test-db23'\n",
    "engine =  create_engine(db_url)\n",
    "\n",
    "#miv_df.to_sql('table_name', engine, if_exists='replace', index=False)\n",
    "#fb_data.to_sql('footbike', engine, if_exists='replace', index=False)\n",
    "\n",
    "geometry_column = 'geometry'\n",
    "\n",
    "\n",
    "acc_df['geometry'] = acc_df['geometry'].apply(lambda geom: WKTElement(geom.wkt, srid=4326))\n",
    "\n",
    "acc_df.to_sql('accidents', engine, if_exists='replace', index=False, dtype={'geometry': Geometry('POINT', srid=4326)})\n",
    "\n"
   ],
   "metadata": {
    "collapsed": false
   },
   "id": "fa76af8343443d7a"
  },
  {
   "cell_type": "code",
   "execution_count": null,
   "outputs": [],
   "source": [
    "engine.dispose()"
   ],
   "metadata": {
    "collapsed": false
   },
   "id": "bc0a23a5126e76c2"
  }
 ],
 "metadata": {
  "kernelspec": {
   "display_name": "Python 3",
   "language": "python",
   "name": "python3"
  },
  "language_info": {
   "codemirror_mode": {
    "name": "ipython",
    "version": 2
   },
   "file_extension": ".py",
   "mimetype": "text/x-python",
   "name": "python",
   "nbconvert_exporter": "python",
   "pygments_lexer": "ipython2",
   "version": "2.7.6"
  }
 },
 "nbformat": 4,
 "nbformat_minor": 5
}
