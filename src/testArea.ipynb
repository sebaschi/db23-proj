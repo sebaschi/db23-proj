{
 "cells": [
  {
   "cell_type": "code",
   "execution_count": 2,
   "outputs": [],
   "source": [
    "import pandas as pd\n",
    "from datetime import datetime as dt\n",
    "\n",
    "import integrate as intr\n"
   ],
   "metadata": {
    "collapsed": false,
    "ExecuteTime": {
     "end_time": "2023-12-02T20:45:25.057214Z",
     "start_time": "2023-12-02T20:45:24.634062Z"
    }
   },
   "id": "be55b25929d95559"
  },
  {
   "cell_type": "code",
   "execution_count": 3,
   "outputs": [
    {
     "name": "stderr",
     "output_type": "stream",
     "text": [
      "/Users/seb/Projects/repos/group-1/src/integrate.py:55: SettingWithCopyWarning: \n",
      "A value is trying to be set on a copy of a slice from a DataFrame.\n",
      "Try using .loc[row_indexer,col_indexer] = value instead\n",
      "\n",
      "See the caveats in the documentation: https://pandas.pydata.org/pandas-docs/stable/user_guide/indexing.html#returning-a-view-versus-a-copy\n",
      "  miv_df_cols_dropped['Weekday_en'] = days.map(lambda x: weekday_names[x])\n"
     ]
    }
   ],
   "source": [
    "\n",
    "miv_df = intr.process_miv_data()\n",
    "fb_data = intr.process_foot_bike_data()"
   ],
   "metadata": {
    "collapsed": false,
    "ExecuteTime": {
     "end_time": "2023-12-02T20:49:39.247032Z",
     "start_time": "2023-12-02T20:45:26.952158Z"
    }
   },
   "id": "dd3831953afdeb72"
  },
  {
   "cell_type": "code",
   "execution_count": null,
   "outputs": [],
   "source": [
    "test_df = miv_df\n"
   ],
   "metadata": {
    "collapsed": false
   },
   "id": "14471cd78389ce4d"
  },
  {
   "cell_type": "code",
   "execution_count": null,
   "outputs": [],
   "source": [
    "test_df.dtypes\n",
    "date_object = pd.to_datetime(test_df['Date'])\n"
   ],
   "metadata": {
    "collapsed": false
   },
   "id": "c70d21adef38fd68"
  },
  {
   "cell_type": "code",
   "execution_count": null,
   "outputs": [],
   "source": [
    "test_df['Weekday_Name']"
   ],
   "metadata": {
    "collapsed": false
   },
   "id": "d0df3c0ef49e8061"
  },
  {
   "cell_type": "code",
   "execution_count": 4,
   "outputs": [
    {
     "name": "stdout",
     "output_type": "stream",
     "text": [
      "u_string RoadTrafficAccidentLocations.json\n",
      "Filename: 2017_verkehrszaehlungen_werte_fussgaenger_velo.csv\n",
      "Filename: RoadTrafficAccidentLocations.json\n",
      "Filepath: datasets/RoadTrafficAccidentLocations.json\n",
      "Filename: 2016_verkehrszaehlungen_werte_fussgaenger_velo.csv\n",
      "Filename: 2022_verkehrszaehlungen_werte_fussgaenger_velo.csv\n",
      "Filename: 2015_verkehrszaehlungen_werte_fussgaenger_velo.csv\n",
      "Filename: 2019_verkehrszaehlungen_werte_fussgaenger_velo.csv\n",
      "Filename: sid_dav_verkehrszaehlung_miv_OD2031_2013.csv\n",
      "Filename: 2021_verkehrszaehlungen_werte_fussgaenger_velo.csv\n",
      "Filename: sid_dav_verkehrszaehlung_miv_OD2031_2012.csv\n",
      "Filename: sid_dav_verkehrszaehlung_miv_OD2031_2016.csv\n",
      "Filename: 2014_verkehrszaehlungen_werte_fussgaenger_velo.csv\n",
      "Filename: 2018_verkehrszaehlungen_werte_fussgaenger_velo.csv\n",
      "Filename: sid_dav_verkehrszaehlung_miv_OD2031_2017.csv\n",
      "Filename: sid_dav_verkehrszaehlung_miv_OD2031_2015.csv\n",
      "Filename: 2020_verkehrszaehlungen_werte_fussgaenger_velo.csv\n",
      "Filename: sid_dav_verkehrszaehlung_miv_OD2031_2014.csv\n",
      "Filename: sid_dav_verkehrszaehlung_miv_OD2031_2019.csv\n",
      "Filename: sid_dav_verkehrszaehlung_miv_OD2031_2018.csv\n",
      "Filename: 2013_verkehrszaehlungen_werte_fussgaenger_velo.csv\n",
      "Filename: sid_dav_verkehrszaehlung_miv_OD2031_2022.csv\n",
      "Filename: sid_dav_verkehrszaehlung_miv_OD2031_2020.csv\n",
      "Filename: 2012_verkehrszaehlungen_werte_fussgaenger_velo.csv\n",
      "Filename: sid_dav_verkehrszaehlung_miv_OD2031_2021.csv\n"
     ]
    }
   ],
   "source": [
    "acc_df = intr.process_accident_data()"
   ],
   "metadata": {
    "collapsed": false,
    "ExecuteTime": {
     "end_time": "2023-12-02T20:50:19.543547Z",
     "start_time": "2023-12-02T20:50:05.258441Z"
    }
   },
   "id": "f86bc612060b17a4"
  },
  {
   "cell_type": "code",
   "execution_count": null,
   "outputs": [],
   "source": [
    "acc_df.head()\n",
    "acc_df['AccidentWeekDay'].unique()\n",
    "#acc_df.dtypes\n",
    "date_obj = dt.strptime(acc_df[''])\n"
   ],
   "metadata": {
    "collapsed": false
   },
   "id": "6affbeea6c7cf3ef"
  },
  {
   "cell_type": "code",
   "execution_count": 5,
   "outputs": [
    {
     "name": "stdout",
     "output_type": "stream",
     "text": [
      "Accident Columns:\n",
      "AccidentUID                      object\n",
      "AccidentHour                     object\n",
      "AccidentYear                     object\n",
      "AccidentWeekDay_en               object\n",
      "AccidentType                     object\n",
      "AccidentSeverityCategory         object\n",
      "AccidentInvolvingPedestrian      object\n",
      "AccidentInvolvingBicycle         object\n",
      "AccidentInvolvingMotorcycle      object\n",
      "RoadType                         object\n",
      "RoadType_en                      object\n",
      "AccidentLocation_CHLV95_E        object\n",
      "AccidentLocation_CHLV95_N        object\n",
      "geometry                       geometry\n",
      "dtype: object\n",
      "\n",
      "MIV Columns:\n",
      "MSID                   object\n",
      "ZSID                   object\n",
      "Achse                  object\n",
      "EKoord                float64\n",
      "NKoord                float64\n",
      "Richtung               object\n",
      "AnzFahrzeuge          float64\n",
      "AnzFahrzeugeStatus     object\n",
      "Date                   object\n",
      "Hrs                    object\n",
      "Weekday_en             object\n",
      "dtype: object\n",
      "\n",
      "FB Cols:\n",
      "OST             int64\n",
      "NORD            int64\n",
      "DATE           object\n",
      "HRS            object\n",
      "VELO_IN       float64\n",
      "VELO_OUT      float64\n",
      "FUSS_IN       float64\n",
      "FUSS_OUT      float64\n",
      "Weekday_en     object\n",
      "dtype: object\n"
     ]
    }
   ],
   "source": [
    "print(\"Accident Columns:\")\n",
    "print(acc_df.dtypes)\n",
    "print()\n",
    "print(\"MIV Columns:\")\n",
    "print(miv_df.dtypes)\n",
    "print()\n",
    "print(\"FB Cols:\")\n",
    "print(fb_data.dtypes)"
   ],
   "metadata": {
    "collapsed": false,
    "ExecuteTime": {
     "end_time": "2023-12-02T20:50:32.272482Z",
     "start_time": "2023-12-02T20:50:32.270846Z"
    }
   },
   "id": "242041cd369d8454"
  },
  {
   "cell_type": "code",
   "execution_count": null,
   "outputs": [],
   "source": [],
   "metadata": {
    "collapsed": false
   },
   "id": "1841925ee109a417"
  },
  {
   "cell_type": "code",
   "execution_count": 13,
   "outputs": [
    {
     "name": "stdout",
     "output_type": "stream",
     "text": [
      "MIV unqiue: (187,)\n",
      "Acc unique: (8661,)\n",
      "FB unique:  (62,)\n"
     ]
    }
   ],
   "source": [
    "print(\"MIV unqiue:\", miv_df['EKoord'].unique().shape)\n",
    "print(\"Acc unique:\", acc_df['AccidentLocation_CHLV95_E'].unique().shape)\n",
    "print(\"FB unique: \", fb_data['OST'].unique())\n"
   ],
   "metadata": {
    "collapsed": false,
    "ExecuteTime": {
     "end_time": "2023-12-02T21:59:53.075227Z",
     "start_time": "2023-12-02T21:59:52.868698Z"
    }
   },
   "id": "f6d752ea17eda341"
  },
  {
   "cell_type": "code",
   "execution_count": 7,
   "outputs": [
    {
     "data": {
      "text/plain": "                        AccidentUID AccidentHour AccidentYear  \\\n0  A2D2677533867004E0430A865E337004           00         2011   \n1  9FD6441F802C20A6E0430A865E3320A6           01         2011   \n2  9FDA0DC4856A6094E0430A865E336094           02         2011   \n3  A3B66E42396E6000E0430A865E336000           02         2011   \n4  9FDA0DBE8CCE9096E0430A865E339096           03         2011   \n\n  AccidentWeekDay_en AccidentType AccidentSeverityCategory  \\\n0           Saturday          at0                      as4   \n1           Saturday          at0                      as3   \n2           Saturday          at0                      as4   \n3           Saturday          at5                      as3   \n4           Saturday          at0                      as4   \n\n  AccidentInvolvingPedestrian AccidentInvolvingBicycle  \\\n0                       false                    false   \n1                       false                     true   \n2                       false                    false   \n3                       false                    false   \n4                       false                    false   \n\n  AccidentInvolvingMotorcycle RoadType RoadType_en AccidentLocation_CHLV95_E  \\\n0                       false    rt433  Minor road                   2684605   \n1                       false    rt433  Minor road                   2682382   \n2                       false    rt439       Other                   2682791   \n3                       false    rt433  Minor road                   2681199   \n4                       false    rt433  Minor road                   2682479   \n\n  AccidentLocation_CHLV95_N                            geometry  \n0                   1245194  POINT Z (8.55841 47.35217 0.00000)  \n1                   1246980  POINT Z (8.52932 47.36851 0.00000)  \n2                   1247749  POINT Z (8.53488 47.37538 0.00000)  \n3                   1247102  POINT Z (8.51368 47.36976 0.00000)  \n4                   1250690  POINT Z (8.53129 47.40186 0.00000)  ",
      "text/html": "<div>\n<style scoped>\n    .dataframe tbody tr th:only-of-type {\n        vertical-align: middle;\n    }\n\n    .dataframe tbody tr th {\n        vertical-align: top;\n    }\n\n    .dataframe thead th {\n        text-align: right;\n    }\n</style>\n<table border=\"1\" class=\"dataframe\">\n  <thead>\n    <tr style=\"text-align: right;\">\n      <th></th>\n      <th>AccidentUID</th>\n      <th>AccidentHour</th>\n      <th>AccidentYear</th>\n      <th>AccidentWeekDay_en</th>\n      <th>AccidentType</th>\n      <th>AccidentSeverityCategory</th>\n      <th>AccidentInvolvingPedestrian</th>\n      <th>AccidentInvolvingBicycle</th>\n      <th>AccidentInvolvingMotorcycle</th>\n      <th>RoadType</th>\n      <th>RoadType_en</th>\n      <th>AccidentLocation_CHLV95_E</th>\n      <th>AccidentLocation_CHLV95_N</th>\n      <th>geometry</th>\n    </tr>\n  </thead>\n  <tbody>\n    <tr>\n      <th>0</th>\n      <td>A2D2677533867004E0430A865E337004</td>\n      <td>00</td>\n      <td>2011</td>\n      <td>Saturday</td>\n      <td>at0</td>\n      <td>as4</td>\n      <td>false</td>\n      <td>false</td>\n      <td>false</td>\n      <td>rt433</td>\n      <td>Minor road</td>\n      <td>2684605</td>\n      <td>1245194</td>\n      <td>POINT Z (8.55841 47.35217 0.00000)</td>\n    </tr>\n    <tr>\n      <th>1</th>\n      <td>9FD6441F802C20A6E0430A865E3320A6</td>\n      <td>01</td>\n      <td>2011</td>\n      <td>Saturday</td>\n      <td>at0</td>\n      <td>as3</td>\n      <td>false</td>\n      <td>true</td>\n      <td>false</td>\n      <td>rt433</td>\n      <td>Minor road</td>\n      <td>2682382</td>\n      <td>1246980</td>\n      <td>POINT Z (8.52932 47.36851 0.00000)</td>\n    </tr>\n    <tr>\n      <th>2</th>\n      <td>9FDA0DC4856A6094E0430A865E336094</td>\n      <td>02</td>\n      <td>2011</td>\n      <td>Saturday</td>\n      <td>at0</td>\n      <td>as4</td>\n      <td>false</td>\n      <td>false</td>\n      <td>false</td>\n      <td>rt439</td>\n      <td>Other</td>\n      <td>2682791</td>\n      <td>1247749</td>\n      <td>POINT Z (8.53488 47.37538 0.00000)</td>\n    </tr>\n    <tr>\n      <th>3</th>\n      <td>A3B66E42396E6000E0430A865E336000</td>\n      <td>02</td>\n      <td>2011</td>\n      <td>Saturday</td>\n      <td>at5</td>\n      <td>as3</td>\n      <td>false</td>\n      <td>false</td>\n      <td>false</td>\n      <td>rt433</td>\n      <td>Minor road</td>\n      <td>2681199</td>\n      <td>1247102</td>\n      <td>POINT Z (8.51368 47.36976 0.00000)</td>\n    </tr>\n    <tr>\n      <th>4</th>\n      <td>9FDA0DBE8CCE9096E0430A865E339096</td>\n      <td>03</td>\n      <td>2011</td>\n      <td>Saturday</td>\n      <td>at0</td>\n      <td>as4</td>\n      <td>false</td>\n      <td>false</td>\n      <td>false</td>\n      <td>rt433</td>\n      <td>Minor road</td>\n      <td>2682479</td>\n      <td>1250690</td>\n      <td>POINT Z (8.53129 47.40186 0.00000)</td>\n    </tr>\n  </tbody>\n</table>\n</div>"
     },
     "execution_count": 7,
     "metadata": {},
     "output_type": "execute_result"
    }
   ],
   "source": [
    "acc_df.head()"
   ],
   "metadata": {
    "collapsed": false,
    "ExecuteTime": {
     "end_time": "2023-12-02T20:52:32.645509Z",
     "start_time": "2023-12-02T20:52:32.643877Z"
    }
   },
   "id": "a159cafa9c227b88"
  },
  {
   "cell_type": "code",
   "execution_count": 17,
   "outputs": [
    {
     "ename": "ProgrammingError",
     "evalue": "(psycopg2.ProgrammingError) can't adapt type 'Point'\n[SQL: INSERT INTO table_name (\"AccidentUID\", \"AccidentHour\", \"AccidentYear\", \"AccidentWeekDay_en\", \"AccidentType\", \"AccidentSeverityCategory\", \"AccidentInvolvingPedestrian\", \"AccidentInvolvingBicycle\", \"AccidentInvolvingMotorcycle\", \"RoadType\", \"RoadType_e ... 398437 characters truncated ... n__999)s, %(AccidentLocation_CHLV95_E__999)s, %(AccidentLocation_CHLV95_N__999)s, %(geometry__999)s)]\n[parameters: {'AccidentYear__0': '2011', 'AccidentLocation_CHLV95_N__0': '1245194', 'AccidentType__0': 'at0', 'AccidentSeverityCategory__0': 'as4', 'RoadType_en__0': 'Minor road', 'AccidentLocation_CHLV95_E__0': '2684605', 'AccidentWeekDay_en__0': 'Saturday', 'AccidentInvolvingMotorcycle__0': 'false', 'RoadType__0': 'rt433', 'AccidentUID__0': 'A2D2677533867004E0430A865E337004', 'AccidentInvolvingPedestrian__0': 'false', 'AccidentHour__0': '00', 'geometry__0': <POINT Z (8.558 47.352 0)>, 'AccidentInvolvingBicycle__0': 'false', 'AccidentYear__1': '2011', 'AccidentLocation_CHLV95_N__1': '1246980', 'AccidentType__1': 'at0', 'AccidentSeverityCategory__1': 'as3', 'RoadType_en__1': 'Minor road', 'AccidentLocation_CHLV95_E__1': '2682382', 'AccidentWeekDay_en__1': 'Saturday', 'AccidentInvolvingMotorcycle__1': 'false', 'RoadType__1': 'rt433', 'AccidentUID__1': '9FD6441F802C20A6E0430A865E3320A6', 'AccidentInvolvingPedestrian__1': 'false', 'AccidentHour__1': '01', 'geometry__1': <POINT Z (8.529 47.369 0)>, 'AccidentInvolvingBicycle__1': 'true', 'AccidentYear__2': '2011', 'AccidentLocation_CHLV95_N__2': '1247749', 'AccidentType__2': 'at0', 'AccidentSeverityCategory__2': 'as4', 'RoadType_en__2': 'Other', 'AccidentLocation_CHLV95_E__2': '2682791', 'AccidentWeekDay_en__2': 'Saturday', 'AccidentInvolvingMotorcycle__2': 'false', 'RoadType__2': 'rt439', 'AccidentUID__2': '9FDA0DC4856A6094E0430A865E336094', 'AccidentInvolvingPedestrian__2': 'false', 'AccidentHour__2': '02', 'geometry__2': <POINT Z (8.535 47.375 0)>, 'AccidentInvolvingBicycle__2': 'false', 'AccidentYear__3': '2011', 'AccidentLocation_CHLV95_N__3': '1247102', 'AccidentType__3': 'at5', 'AccidentSeverityCategory__3': 'as3', 'RoadType_en__3': 'Minor road', 'AccidentLocation_CHLV95_E__3': '2681199', 'AccidentWeekDay_en__3': 'Saturday', 'AccidentInvolvingMotorcycle__3': 'false' ... 13900 parameters truncated ... 'AccidentWeekDay_en__996': 'Tuesday', 'AccidentInvolvingMotorcycle__996': 'false', 'RoadType__996': 'rt433', 'AccidentUID__996': 'A5D2C4A55E38707EE0430A865E33707E', 'AccidentInvolvingPedestrian__996': 'false', 'AccidentHour__996': '08', 'geometry__996': <POINT Z (8.539 47.377 0)>, 'AccidentInvolvingBicycle__996': 'false', 'AccidentYear__997': '2011', 'AccidentLocation_CHLV95_N__997': '1251718', 'AccidentType__997': 'at2', 'AccidentSeverityCategory__997': 'as3', 'RoadType_en__997': 'Principal road', 'AccidentLocation_CHLV95_E__997': '2685190', 'AccidentWeekDay_en__997': 'Tuesday', 'AccidentInvolvingMotorcycle__997': 'false', 'RoadType__997': 'rt432', 'AccidentUID__997': 'A5F1841A36B070AEE0430A865E3370AE', 'AccidentInvolvingPedestrian__997': 'false', 'AccidentHour__997': '11', 'geometry__997': <POINT Z (8.567 47.411 0)>, 'AccidentInvolvingBicycle__997': 'false', 'AccidentYear__998': '2011', 'AccidentLocation_CHLV95_N__998': '1246106', 'AccidentType__998': 'at2', 'AccidentSeverityCategory__998': 'as4', 'RoadType_en__998': 'Principal road', 'AccidentLocation_CHLV95_E__998': '2685329', 'AccidentWeekDay_en__998': 'Tuesday', 'AccidentInvolvingMotorcycle__998': 'false', 'RoadType__998': 'rt432', 'AccidentUID__998': 'A5E25678EDD7505EE0430A865E33505E', 'AccidentInvolvingPedestrian__998': 'false', 'AccidentHour__998': '14', 'geometry__998': <POINT Z (8.568 47.36 0)>, 'AccidentInvolvingBicycle__998': 'false', 'AccidentYear__999': '2011', 'AccidentLocation_CHLV95_N__999': '1251852', 'AccidentType__999': 'at00', 'AccidentSeverityCategory__999': 'as3', 'RoadType_en__999': 'Principal road', 'AccidentLocation_CHLV95_E__999': '2683606', 'AccidentWeekDay_en__999': 'Tuesday', 'AccidentInvolvingMotorcycle__999': 'false', 'RoadType__999': 'rt432', 'AccidentUID__999': 'A6431CCEC810E09CE0430A865E33E09C', 'AccidentInvolvingPedestrian__999': 'false', 'AccidentHour__999': '16', 'geometry__999': <POINT Z (8.546 47.412 0)>, 'AccidentInvolvingBicycle__999': 'false'}]\n(Background on this error at: https://sqlalche.me/e/20/f405)",
     "output_type": "error",
     "traceback": [
      "\u001B[0;31m---------------------------------------------------------------------------\u001B[0m",
      "\u001B[0;31mProgrammingError\u001B[0m                          Traceback (most recent call last)",
      "File \u001B[0;32m~/Projects/repos/group-1/db23-project-venv/lib/python3.11/site-packages/sqlalchemy/engine/base.py:2112\u001B[0m, in \u001B[0;36mConnection._exec_insertmany_context\u001B[0;34m(self, dialect, context)\u001B[0m\n\u001B[1;32m   2111\u001B[0m     \u001B[38;5;28;01melse\u001B[39;00m:\n\u001B[0;32m-> 2112\u001B[0m         \u001B[43mdialect\u001B[49m\u001B[38;5;241;43m.\u001B[39;49m\u001B[43mdo_execute\u001B[49m\u001B[43m(\u001B[49m\n\u001B[1;32m   2113\u001B[0m \u001B[43m            \u001B[49m\u001B[43mcursor\u001B[49m\u001B[43m,\u001B[49m\n\u001B[1;32m   2114\u001B[0m \u001B[43m            \u001B[49m\u001B[43msub_stmt\u001B[49m\u001B[43m,\u001B[49m\n\u001B[1;32m   2115\u001B[0m \u001B[43m            \u001B[49m\u001B[43msub_params\u001B[49m\u001B[43m,\u001B[49m\n\u001B[1;32m   2116\u001B[0m \u001B[43m            \u001B[49m\u001B[43mcontext\u001B[49m\u001B[43m,\u001B[49m\n\u001B[1;32m   2117\u001B[0m \u001B[43m        \u001B[49m\u001B[43m)\u001B[49m\n\u001B[1;32m   2119\u001B[0m \u001B[38;5;28;01mexcept\u001B[39;00m \u001B[38;5;167;01mBaseException\u001B[39;00m \u001B[38;5;28;01mas\u001B[39;00m e:\n",
      "File \u001B[0;32m~/Projects/repos/group-1/db23-project-venv/lib/python3.11/site-packages/sqlalchemy/engine/default.py:922\u001B[0m, in \u001B[0;36mDefaultDialect.do_execute\u001B[0;34m(self, cursor, statement, parameters, context)\u001B[0m\n\u001B[1;32m    921\u001B[0m \u001B[38;5;28;01mdef\u001B[39;00m \u001B[38;5;21mdo_execute\u001B[39m(\u001B[38;5;28mself\u001B[39m, cursor, statement, parameters, context\u001B[38;5;241m=\u001B[39m\u001B[38;5;28;01mNone\u001B[39;00m):\n\u001B[0;32m--> 922\u001B[0m     \u001B[43mcursor\u001B[49m\u001B[38;5;241;43m.\u001B[39;49m\u001B[43mexecute\u001B[49m\u001B[43m(\u001B[49m\u001B[43mstatement\u001B[49m\u001B[43m,\u001B[49m\u001B[43m \u001B[49m\u001B[43mparameters\u001B[49m\u001B[43m)\u001B[49m\n",
      "\u001B[0;31mProgrammingError\u001B[0m: can't adapt type 'Point'",
      "\nThe above exception was the direct cause of the following exception:\n",
      "\u001B[0;31mProgrammingError\u001B[0m                          Traceback (most recent call last)",
      "Cell \u001B[0;32mIn[17], line 8\u001B[0m\n\u001B[1;32m      4\u001B[0m engine \u001B[38;5;241m=\u001B[39m  create_engine(db_url)\n\u001B[1;32m      6\u001B[0m \u001B[38;5;66;03m#miv_df.to_sql('table_name', engine, if_exists='replace', index=False)\u001B[39;00m\n\u001B[1;32m      7\u001B[0m \u001B[38;5;66;03m#fb_data.to_sql('footbike', engine, if_exists='replace', index=False)\u001B[39;00m\n\u001B[0;32m----> 8\u001B[0m \u001B[43macc_df\u001B[49m\u001B[38;5;241;43m.\u001B[39;49m\u001B[43mto_sql\u001B[49m\u001B[43m(\u001B[49m\u001B[38;5;124;43m'\u001B[39;49m\u001B[38;5;124;43mtable_name\u001B[39;49m\u001B[38;5;124;43m'\u001B[39;49m\u001B[43m,\u001B[49m\u001B[43m \u001B[49m\u001B[43mengine\u001B[49m\u001B[43m,\u001B[49m\u001B[43m \u001B[49m\u001B[43mif_exists\u001B[49m\u001B[38;5;241;43m=\u001B[39;49m\u001B[38;5;124;43m'\u001B[39;49m\u001B[38;5;124;43mreplace\u001B[39;49m\u001B[38;5;124;43m'\u001B[39;49m\u001B[43m,\u001B[49m\u001B[43m \u001B[49m\u001B[43mindex\u001B[49m\u001B[38;5;241;43m=\u001B[39;49m\u001B[38;5;28;43;01mFalse\u001B[39;49;00m\u001B[43m)\u001B[49m\n",
      "File \u001B[0;32m~/Projects/repos/group-1/db23-project-venv/lib/python3.11/site-packages/pandas/util/_decorators.py:333\u001B[0m, in \u001B[0;36mdeprecate_nonkeyword_arguments.<locals>.decorate.<locals>.wrapper\u001B[0;34m(*args, **kwargs)\u001B[0m\n\u001B[1;32m    327\u001B[0m \u001B[38;5;28;01mif\u001B[39;00m \u001B[38;5;28mlen\u001B[39m(args) \u001B[38;5;241m>\u001B[39m num_allow_args:\n\u001B[1;32m    328\u001B[0m     warnings\u001B[38;5;241m.\u001B[39mwarn(\n\u001B[1;32m    329\u001B[0m         msg\u001B[38;5;241m.\u001B[39mformat(arguments\u001B[38;5;241m=\u001B[39m_format_argument_list(allow_args)),\n\u001B[1;32m    330\u001B[0m         \u001B[38;5;167;01mFutureWarning\u001B[39;00m,\n\u001B[1;32m    331\u001B[0m         stacklevel\u001B[38;5;241m=\u001B[39mfind_stack_level(),\n\u001B[1;32m    332\u001B[0m     )\n\u001B[0;32m--> 333\u001B[0m \u001B[38;5;28;01mreturn\u001B[39;00m \u001B[43mfunc\u001B[49m\u001B[43m(\u001B[49m\u001B[38;5;241;43m*\u001B[39;49m\u001B[43margs\u001B[49m\u001B[43m,\u001B[49m\u001B[43m \u001B[49m\u001B[38;5;241;43m*\u001B[39;49m\u001B[38;5;241;43m*\u001B[39;49m\u001B[43mkwargs\u001B[49m\u001B[43m)\u001B[49m\n",
      "File \u001B[0;32m~/Projects/repos/group-1/db23-project-venv/lib/python3.11/site-packages/pandas/core/generic.py:3008\u001B[0m, in \u001B[0;36mNDFrame.to_sql\u001B[0;34m(self, name, con, schema, if_exists, index, index_label, chunksize, dtype, method)\u001B[0m\n\u001B[1;32m   2813\u001B[0m \u001B[38;5;250m\u001B[39m\u001B[38;5;124;03m\"\"\"\u001B[39;00m\n\u001B[1;32m   2814\u001B[0m \u001B[38;5;124;03mWrite records stored in a DataFrame to a SQL database.\u001B[39;00m\n\u001B[1;32m   2815\u001B[0m \n\u001B[0;32m   (...)\u001B[0m\n\u001B[1;32m   3004\u001B[0m \u001B[38;5;124;03m[(1,), (None,), (2,)]\u001B[39;00m\n\u001B[1;32m   3005\u001B[0m \u001B[38;5;124;03m\"\"\"\u001B[39;00m  \u001B[38;5;66;03m# noqa: E501\u001B[39;00m\n\u001B[1;32m   3006\u001B[0m \u001B[38;5;28;01mfrom\u001B[39;00m \u001B[38;5;21;01mpandas\u001B[39;00m\u001B[38;5;21;01m.\u001B[39;00m\u001B[38;5;21;01mio\u001B[39;00m \u001B[38;5;28;01mimport\u001B[39;00m sql\n\u001B[0;32m-> 3008\u001B[0m \u001B[38;5;28;01mreturn\u001B[39;00m \u001B[43msql\u001B[49m\u001B[38;5;241;43m.\u001B[39;49m\u001B[43mto_sql\u001B[49m\u001B[43m(\u001B[49m\n\u001B[1;32m   3009\u001B[0m \u001B[43m    \u001B[49m\u001B[38;5;28;43mself\u001B[39;49m\u001B[43m,\u001B[49m\n\u001B[1;32m   3010\u001B[0m \u001B[43m    \u001B[49m\u001B[43mname\u001B[49m\u001B[43m,\u001B[49m\n\u001B[1;32m   3011\u001B[0m \u001B[43m    \u001B[49m\u001B[43mcon\u001B[49m\u001B[43m,\u001B[49m\n\u001B[1;32m   3012\u001B[0m \u001B[43m    \u001B[49m\u001B[43mschema\u001B[49m\u001B[38;5;241;43m=\u001B[39;49m\u001B[43mschema\u001B[49m\u001B[43m,\u001B[49m\n\u001B[1;32m   3013\u001B[0m \u001B[43m    \u001B[49m\u001B[43mif_exists\u001B[49m\u001B[38;5;241;43m=\u001B[39;49m\u001B[43mif_exists\u001B[49m\u001B[43m,\u001B[49m\n\u001B[1;32m   3014\u001B[0m \u001B[43m    \u001B[49m\u001B[43mindex\u001B[49m\u001B[38;5;241;43m=\u001B[39;49m\u001B[43mindex\u001B[49m\u001B[43m,\u001B[49m\n\u001B[1;32m   3015\u001B[0m \u001B[43m    \u001B[49m\u001B[43mindex_label\u001B[49m\u001B[38;5;241;43m=\u001B[39;49m\u001B[43mindex_label\u001B[49m\u001B[43m,\u001B[49m\n\u001B[1;32m   3016\u001B[0m \u001B[43m    \u001B[49m\u001B[43mchunksize\u001B[49m\u001B[38;5;241;43m=\u001B[39;49m\u001B[43mchunksize\u001B[49m\u001B[43m,\u001B[49m\n\u001B[1;32m   3017\u001B[0m \u001B[43m    \u001B[49m\u001B[43mdtype\u001B[49m\u001B[38;5;241;43m=\u001B[39;49m\u001B[43mdtype\u001B[49m\u001B[43m,\u001B[49m\n\u001B[1;32m   3018\u001B[0m \u001B[43m    \u001B[49m\u001B[43mmethod\u001B[49m\u001B[38;5;241;43m=\u001B[39;49m\u001B[43mmethod\u001B[49m\u001B[43m,\u001B[49m\n\u001B[1;32m   3019\u001B[0m \u001B[43m\u001B[49m\u001B[43m)\u001B[49m\n",
      "File \u001B[0;32m~/Projects/repos/group-1/db23-project-venv/lib/python3.11/site-packages/pandas/io/sql.py:788\u001B[0m, in \u001B[0;36mto_sql\u001B[0;34m(frame, name, con, schema, if_exists, index, index_label, chunksize, dtype, method, engine, **engine_kwargs)\u001B[0m\n\u001B[1;32m    783\u001B[0m     \u001B[38;5;28;01mraise\u001B[39;00m \u001B[38;5;167;01mNotImplementedError\u001B[39;00m(\n\u001B[1;32m    784\u001B[0m         \u001B[38;5;124m\"\u001B[39m\u001B[38;5;124m'\u001B[39m\u001B[38;5;124mframe\u001B[39m\u001B[38;5;124m'\u001B[39m\u001B[38;5;124m argument should be either a Series or a DataFrame\u001B[39m\u001B[38;5;124m\"\u001B[39m\n\u001B[1;32m    785\u001B[0m     )\n\u001B[1;32m    787\u001B[0m \u001B[38;5;28;01mwith\u001B[39;00m pandasSQL_builder(con, schema\u001B[38;5;241m=\u001B[39mschema, need_transaction\u001B[38;5;241m=\u001B[39m\u001B[38;5;28;01mTrue\u001B[39;00m) \u001B[38;5;28;01mas\u001B[39;00m pandas_sql:\n\u001B[0;32m--> 788\u001B[0m     \u001B[38;5;28;01mreturn\u001B[39;00m \u001B[43mpandas_sql\u001B[49m\u001B[38;5;241;43m.\u001B[39;49m\u001B[43mto_sql\u001B[49m\u001B[43m(\u001B[49m\n\u001B[1;32m    789\u001B[0m \u001B[43m        \u001B[49m\u001B[43mframe\u001B[49m\u001B[43m,\u001B[49m\n\u001B[1;32m    790\u001B[0m \u001B[43m        \u001B[49m\u001B[43mname\u001B[49m\u001B[43m,\u001B[49m\n\u001B[1;32m    791\u001B[0m \u001B[43m        \u001B[49m\u001B[43mif_exists\u001B[49m\u001B[38;5;241;43m=\u001B[39;49m\u001B[43mif_exists\u001B[49m\u001B[43m,\u001B[49m\n\u001B[1;32m    792\u001B[0m \u001B[43m        \u001B[49m\u001B[43mindex\u001B[49m\u001B[38;5;241;43m=\u001B[39;49m\u001B[43mindex\u001B[49m\u001B[43m,\u001B[49m\n\u001B[1;32m    793\u001B[0m \u001B[43m        \u001B[49m\u001B[43mindex_label\u001B[49m\u001B[38;5;241;43m=\u001B[39;49m\u001B[43mindex_label\u001B[49m\u001B[43m,\u001B[49m\n\u001B[1;32m    794\u001B[0m \u001B[43m        \u001B[49m\u001B[43mschema\u001B[49m\u001B[38;5;241;43m=\u001B[39;49m\u001B[43mschema\u001B[49m\u001B[43m,\u001B[49m\n\u001B[1;32m    795\u001B[0m \u001B[43m        \u001B[49m\u001B[43mchunksize\u001B[49m\u001B[38;5;241;43m=\u001B[39;49m\u001B[43mchunksize\u001B[49m\u001B[43m,\u001B[49m\n\u001B[1;32m    796\u001B[0m \u001B[43m        \u001B[49m\u001B[43mdtype\u001B[49m\u001B[38;5;241;43m=\u001B[39;49m\u001B[43mdtype\u001B[49m\u001B[43m,\u001B[49m\n\u001B[1;32m    797\u001B[0m \u001B[43m        \u001B[49m\u001B[43mmethod\u001B[49m\u001B[38;5;241;43m=\u001B[39;49m\u001B[43mmethod\u001B[49m\u001B[43m,\u001B[49m\n\u001B[1;32m    798\u001B[0m \u001B[43m        \u001B[49m\u001B[43mengine\u001B[49m\u001B[38;5;241;43m=\u001B[39;49m\u001B[43mengine\u001B[49m\u001B[43m,\u001B[49m\n\u001B[1;32m    799\u001B[0m \u001B[43m        \u001B[49m\u001B[38;5;241;43m*\u001B[39;49m\u001B[38;5;241;43m*\u001B[39;49m\u001B[43mengine_kwargs\u001B[49m\u001B[43m,\u001B[49m\n\u001B[1;32m    800\u001B[0m \u001B[43m    \u001B[49m\u001B[43m)\u001B[49m\n",
      "File \u001B[0;32m~/Projects/repos/group-1/db23-project-venv/lib/python3.11/site-packages/pandas/io/sql.py:1958\u001B[0m, in \u001B[0;36mSQLDatabase.to_sql\u001B[0;34m(self, frame, name, if_exists, index, index_label, schema, chunksize, dtype, method, engine, **engine_kwargs)\u001B[0m\n\u001B[1;32m   1946\u001B[0m sql_engine \u001B[38;5;241m=\u001B[39m get_engine(engine)\n\u001B[1;32m   1948\u001B[0m table \u001B[38;5;241m=\u001B[39m \u001B[38;5;28mself\u001B[39m\u001B[38;5;241m.\u001B[39mprep_table(\n\u001B[1;32m   1949\u001B[0m     frame\u001B[38;5;241m=\u001B[39mframe,\n\u001B[1;32m   1950\u001B[0m     name\u001B[38;5;241m=\u001B[39mname,\n\u001B[0;32m   (...)\u001B[0m\n\u001B[1;32m   1955\u001B[0m     dtype\u001B[38;5;241m=\u001B[39mdtype,\n\u001B[1;32m   1956\u001B[0m )\n\u001B[0;32m-> 1958\u001B[0m total_inserted \u001B[38;5;241m=\u001B[39m \u001B[43msql_engine\u001B[49m\u001B[38;5;241;43m.\u001B[39;49m\u001B[43minsert_records\u001B[49m\u001B[43m(\u001B[49m\n\u001B[1;32m   1959\u001B[0m \u001B[43m    \u001B[49m\u001B[43mtable\u001B[49m\u001B[38;5;241;43m=\u001B[39;49m\u001B[43mtable\u001B[49m\u001B[43m,\u001B[49m\n\u001B[1;32m   1960\u001B[0m \u001B[43m    \u001B[49m\u001B[43mcon\u001B[49m\u001B[38;5;241;43m=\u001B[39;49m\u001B[38;5;28;43mself\u001B[39;49m\u001B[38;5;241;43m.\u001B[39;49m\u001B[43mcon\u001B[49m\u001B[43m,\u001B[49m\n\u001B[1;32m   1961\u001B[0m \u001B[43m    \u001B[49m\u001B[43mframe\u001B[49m\u001B[38;5;241;43m=\u001B[39;49m\u001B[43mframe\u001B[49m\u001B[43m,\u001B[49m\n\u001B[1;32m   1962\u001B[0m \u001B[43m    \u001B[49m\u001B[43mname\u001B[49m\u001B[38;5;241;43m=\u001B[39;49m\u001B[43mname\u001B[49m\u001B[43m,\u001B[49m\n\u001B[1;32m   1963\u001B[0m \u001B[43m    \u001B[49m\u001B[43mindex\u001B[49m\u001B[38;5;241;43m=\u001B[39;49m\u001B[43mindex\u001B[49m\u001B[43m,\u001B[49m\n\u001B[1;32m   1964\u001B[0m \u001B[43m    \u001B[49m\u001B[43mschema\u001B[49m\u001B[38;5;241;43m=\u001B[39;49m\u001B[43mschema\u001B[49m\u001B[43m,\u001B[49m\n\u001B[1;32m   1965\u001B[0m \u001B[43m    \u001B[49m\u001B[43mchunksize\u001B[49m\u001B[38;5;241;43m=\u001B[39;49m\u001B[43mchunksize\u001B[49m\u001B[43m,\u001B[49m\n\u001B[1;32m   1966\u001B[0m \u001B[43m    \u001B[49m\u001B[43mmethod\u001B[49m\u001B[38;5;241;43m=\u001B[39;49m\u001B[43mmethod\u001B[49m\u001B[43m,\u001B[49m\n\u001B[1;32m   1967\u001B[0m \u001B[43m    \u001B[49m\u001B[38;5;241;43m*\u001B[39;49m\u001B[38;5;241;43m*\u001B[39;49m\u001B[43mengine_kwargs\u001B[49m\u001B[43m,\u001B[49m\n\u001B[1;32m   1968\u001B[0m \u001B[43m\u001B[49m\u001B[43m)\u001B[49m\n\u001B[1;32m   1970\u001B[0m \u001B[38;5;28mself\u001B[39m\u001B[38;5;241m.\u001B[39mcheck_case_sensitive(name\u001B[38;5;241m=\u001B[39mname, schema\u001B[38;5;241m=\u001B[39mschema)\n\u001B[1;32m   1971\u001B[0m \u001B[38;5;28;01mreturn\u001B[39;00m total_inserted\n",
      "File \u001B[0;32m~/Projects/repos/group-1/db23-project-venv/lib/python3.11/site-packages/pandas/io/sql.py:1507\u001B[0m, in \u001B[0;36mSQLAlchemyEngine.insert_records\u001B[0;34m(self, table, con, frame, name, index, schema, chunksize, method, **engine_kwargs)\u001B[0m\n\u001B[1;32m   1505\u001B[0m \u001B[38;5;28;01mif\u001B[39;00m re\u001B[38;5;241m.\u001B[39msearch(msg, err_text):\n\u001B[1;32m   1506\u001B[0m     \u001B[38;5;28;01mraise\u001B[39;00m \u001B[38;5;167;01mValueError\u001B[39;00m(\u001B[38;5;124m\"\u001B[39m\u001B[38;5;124minf cannot be used with MySQL\u001B[39m\u001B[38;5;124m\"\u001B[39m) \u001B[38;5;28;01mfrom\u001B[39;00m \u001B[38;5;21;01merr\u001B[39;00m\n\u001B[0;32m-> 1507\u001B[0m \u001B[38;5;28;01mraise\u001B[39;00m err\n",
      "File \u001B[0;32m~/Projects/repos/group-1/db23-project-venv/lib/python3.11/site-packages/pandas/io/sql.py:1498\u001B[0m, in \u001B[0;36mSQLAlchemyEngine.insert_records\u001B[0;34m(self, table, con, frame, name, index, schema, chunksize, method, **engine_kwargs)\u001B[0m\n\u001B[1;32m   1495\u001B[0m \u001B[38;5;28;01mfrom\u001B[39;00m \u001B[38;5;21;01msqlalchemy\u001B[39;00m \u001B[38;5;28;01mimport\u001B[39;00m exc\n\u001B[1;32m   1497\u001B[0m \u001B[38;5;28;01mtry\u001B[39;00m:\n\u001B[0;32m-> 1498\u001B[0m     \u001B[38;5;28;01mreturn\u001B[39;00m \u001B[43mtable\u001B[49m\u001B[38;5;241;43m.\u001B[39;49m\u001B[43minsert\u001B[49m\u001B[43m(\u001B[49m\u001B[43mchunksize\u001B[49m\u001B[38;5;241;43m=\u001B[39;49m\u001B[43mchunksize\u001B[49m\u001B[43m,\u001B[49m\u001B[43m \u001B[49m\u001B[43mmethod\u001B[49m\u001B[38;5;241;43m=\u001B[39;49m\u001B[43mmethod\u001B[49m\u001B[43m)\u001B[49m\n\u001B[1;32m   1499\u001B[0m \u001B[38;5;28;01mexcept\u001B[39;00m exc\u001B[38;5;241m.\u001B[39mStatementError \u001B[38;5;28;01mas\u001B[39;00m err:\n\u001B[1;32m   1500\u001B[0m     \u001B[38;5;66;03m# GH34431\u001B[39;00m\n\u001B[1;32m   1501\u001B[0m     \u001B[38;5;66;03m# https://stackoverflow.com/a/67358288/6067848\u001B[39;00m\n\u001B[1;32m   1502\u001B[0m     msg \u001B[38;5;241m=\u001B[39m \u001B[38;5;124mr\u001B[39m\u001B[38;5;124m\"\"\"\u001B[39m\u001B[38;5;124m(\u001B[39m\u001B[38;5;124m\\\u001B[39m\u001B[38;5;124m(1054, \u001B[39m\u001B[38;5;124m\"\u001B[39m\u001B[38;5;124mUnknown column \u001B[39m\u001B[38;5;124m'\u001B[39m\u001B[38;5;124minf(e0)?\u001B[39m\u001B[38;5;124m'\u001B[39m\u001B[38;5;124m in \u001B[39m\u001B[38;5;124m'\u001B[39m\u001B[38;5;124mfield list\u001B[39m\u001B[38;5;124m'\u001B[39m\u001B[38;5;124m\"\u001B[39m\u001B[38;5;124m\\\u001B[39m\u001B[38;5;124m))(?#\u001B[39m\n\u001B[1;32m   1503\u001B[0m \u001B[38;5;124m    )|inf can not be used with MySQL\u001B[39m\u001B[38;5;124m\"\"\"\u001B[39m\n",
      "File \u001B[0;32m~/Projects/repos/group-1/db23-project-venv/lib/python3.11/site-packages/pandas/io/sql.py:1059\u001B[0m, in \u001B[0;36mSQLTable.insert\u001B[0;34m(self, chunksize, method)\u001B[0m\n\u001B[1;32m   1056\u001B[0m     \u001B[38;5;28;01mbreak\u001B[39;00m\n\u001B[1;32m   1058\u001B[0m chunk_iter \u001B[38;5;241m=\u001B[39m \u001B[38;5;28mzip\u001B[39m(\u001B[38;5;241m*\u001B[39m(arr[start_i:end_i] \u001B[38;5;28;01mfor\u001B[39;00m arr \u001B[38;5;129;01min\u001B[39;00m data_list))\n\u001B[0;32m-> 1059\u001B[0m num_inserted \u001B[38;5;241m=\u001B[39m \u001B[43mexec_insert\u001B[49m\u001B[43m(\u001B[49m\u001B[43mconn\u001B[49m\u001B[43m,\u001B[49m\u001B[43m \u001B[49m\u001B[43mkeys\u001B[49m\u001B[43m,\u001B[49m\u001B[43m \u001B[49m\u001B[43mchunk_iter\u001B[49m\u001B[43m)\u001B[49m\n\u001B[1;32m   1060\u001B[0m \u001B[38;5;66;03m# GH 46891\u001B[39;00m\n\u001B[1;32m   1061\u001B[0m \u001B[38;5;28;01mif\u001B[39;00m num_inserted \u001B[38;5;129;01mis\u001B[39;00m \u001B[38;5;129;01mnot\u001B[39;00m \u001B[38;5;28;01mNone\u001B[39;00m:\n",
      "File \u001B[0;32m~/Projects/repos/group-1/db23-project-venv/lib/python3.11/site-packages/pandas/io/sql.py:951\u001B[0m, in \u001B[0;36mSQLTable._execute_insert\u001B[0;34m(self, conn, keys, data_iter)\u001B[0m\n\u001B[1;32m    939\u001B[0m \u001B[38;5;250m\u001B[39m\u001B[38;5;124;03m\"\"\"\u001B[39;00m\n\u001B[1;32m    940\u001B[0m \u001B[38;5;124;03mExecute SQL statement inserting data\u001B[39;00m\n\u001B[1;32m    941\u001B[0m \n\u001B[0;32m   (...)\u001B[0m\n\u001B[1;32m    948\u001B[0m \u001B[38;5;124;03m   Each item contains a list of values to be inserted\u001B[39;00m\n\u001B[1;32m    949\u001B[0m \u001B[38;5;124;03m\"\"\"\u001B[39;00m\n\u001B[1;32m    950\u001B[0m data \u001B[38;5;241m=\u001B[39m [\u001B[38;5;28mdict\u001B[39m(\u001B[38;5;28mzip\u001B[39m(keys, row)) \u001B[38;5;28;01mfor\u001B[39;00m row \u001B[38;5;129;01min\u001B[39;00m data_iter]\n\u001B[0;32m--> 951\u001B[0m result \u001B[38;5;241m=\u001B[39m \u001B[43mconn\u001B[49m\u001B[38;5;241;43m.\u001B[39;49m\u001B[43mexecute\u001B[49m\u001B[43m(\u001B[49m\u001B[38;5;28;43mself\u001B[39;49m\u001B[38;5;241;43m.\u001B[39;49m\u001B[43mtable\u001B[49m\u001B[38;5;241;43m.\u001B[39;49m\u001B[43minsert\u001B[49m\u001B[43m(\u001B[49m\u001B[43m)\u001B[49m\u001B[43m,\u001B[49m\u001B[43m \u001B[49m\u001B[43mdata\u001B[49m\u001B[43m)\u001B[49m\n\u001B[1;32m    952\u001B[0m \u001B[38;5;28;01mreturn\u001B[39;00m result\u001B[38;5;241m.\u001B[39mrowcount\n",
      "File \u001B[0;32m~/Projects/repos/group-1/db23-project-venv/lib/python3.11/site-packages/sqlalchemy/engine/base.py:1416\u001B[0m, in \u001B[0;36mConnection.execute\u001B[0;34m(self, statement, parameters, execution_options)\u001B[0m\n\u001B[1;32m   1414\u001B[0m     \u001B[38;5;28;01mraise\u001B[39;00m exc\u001B[38;5;241m.\u001B[39mObjectNotExecutableError(statement) \u001B[38;5;28;01mfrom\u001B[39;00m \u001B[38;5;21;01merr\u001B[39;00m\n\u001B[1;32m   1415\u001B[0m \u001B[38;5;28;01melse\u001B[39;00m:\n\u001B[0;32m-> 1416\u001B[0m     \u001B[38;5;28;01mreturn\u001B[39;00m \u001B[43mmeth\u001B[49m\u001B[43m(\u001B[49m\n\u001B[1;32m   1417\u001B[0m \u001B[43m        \u001B[49m\u001B[38;5;28;43mself\u001B[39;49m\u001B[43m,\u001B[49m\n\u001B[1;32m   1418\u001B[0m \u001B[43m        \u001B[49m\u001B[43mdistilled_parameters\u001B[49m\u001B[43m,\u001B[49m\n\u001B[1;32m   1419\u001B[0m \u001B[43m        \u001B[49m\u001B[43mexecution_options\u001B[49m\u001B[43m \u001B[49m\u001B[38;5;129;43;01mor\u001B[39;49;00m\u001B[43m \u001B[49m\u001B[43mNO_OPTIONS\u001B[49m\u001B[43m,\u001B[49m\n\u001B[1;32m   1420\u001B[0m \u001B[43m    \u001B[49m\u001B[43m)\u001B[49m\n",
      "File \u001B[0;32m~/Projects/repos/group-1/db23-project-venv/lib/python3.11/site-packages/sqlalchemy/sql/elements.py:516\u001B[0m, in \u001B[0;36mClauseElement._execute_on_connection\u001B[0;34m(self, connection, distilled_params, execution_options)\u001B[0m\n\u001B[1;32m    514\u001B[0m     \u001B[38;5;28;01mif\u001B[39;00m TYPE_CHECKING:\n\u001B[1;32m    515\u001B[0m         \u001B[38;5;28;01massert\u001B[39;00m \u001B[38;5;28misinstance\u001B[39m(\u001B[38;5;28mself\u001B[39m, Executable)\n\u001B[0;32m--> 516\u001B[0m     \u001B[38;5;28;01mreturn\u001B[39;00m \u001B[43mconnection\u001B[49m\u001B[38;5;241;43m.\u001B[39;49m\u001B[43m_execute_clauseelement\u001B[49m\u001B[43m(\u001B[49m\n\u001B[1;32m    517\u001B[0m \u001B[43m        \u001B[49m\u001B[38;5;28;43mself\u001B[39;49m\u001B[43m,\u001B[49m\u001B[43m \u001B[49m\u001B[43mdistilled_params\u001B[49m\u001B[43m,\u001B[49m\u001B[43m \u001B[49m\u001B[43mexecution_options\u001B[49m\n\u001B[1;32m    518\u001B[0m \u001B[43m    \u001B[49m\u001B[43m)\u001B[49m\n\u001B[1;32m    519\u001B[0m \u001B[38;5;28;01melse\u001B[39;00m:\n\u001B[1;32m    520\u001B[0m     \u001B[38;5;28;01mraise\u001B[39;00m exc\u001B[38;5;241m.\u001B[39mObjectNotExecutableError(\u001B[38;5;28mself\u001B[39m)\n",
      "File \u001B[0;32m~/Projects/repos/group-1/db23-project-venv/lib/python3.11/site-packages/sqlalchemy/engine/base.py:1639\u001B[0m, in \u001B[0;36mConnection._execute_clauseelement\u001B[0;34m(self, elem, distilled_parameters, execution_options)\u001B[0m\n\u001B[1;32m   1627\u001B[0m compiled_cache: Optional[CompiledCacheType] \u001B[38;5;241m=\u001B[39m execution_options\u001B[38;5;241m.\u001B[39mget(\n\u001B[1;32m   1628\u001B[0m     \u001B[38;5;124m\"\u001B[39m\u001B[38;5;124mcompiled_cache\u001B[39m\u001B[38;5;124m\"\u001B[39m, \u001B[38;5;28mself\u001B[39m\u001B[38;5;241m.\u001B[39mengine\u001B[38;5;241m.\u001B[39m_compiled_cache\n\u001B[1;32m   1629\u001B[0m )\n\u001B[1;32m   1631\u001B[0m compiled_sql, extracted_params, cache_hit \u001B[38;5;241m=\u001B[39m elem\u001B[38;5;241m.\u001B[39m_compile_w_cache(\n\u001B[1;32m   1632\u001B[0m     dialect\u001B[38;5;241m=\u001B[39mdialect,\n\u001B[1;32m   1633\u001B[0m     compiled_cache\u001B[38;5;241m=\u001B[39mcompiled_cache,\n\u001B[0;32m   (...)\u001B[0m\n\u001B[1;32m   1637\u001B[0m     linting\u001B[38;5;241m=\u001B[39m\u001B[38;5;28mself\u001B[39m\u001B[38;5;241m.\u001B[39mdialect\u001B[38;5;241m.\u001B[39mcompiler_linting \u001B[38;5;241m|\u001B[39m compiler\u001B[38;5;241m.\u001B[39mWARN_LINTING,\n\u001B[1;32m   1638\u001B[0m )\n\u001B[0;32m-> 1639\u001B[0m ret \u001B[38;5;241m=\u001B[39m \u001B[38;5;28;43mself\u001B[39;49m\u001B[38;5;241;43m.\u001B[39;49m\u001B[43m_execute_context\u001B[49m\u001B[43m(\u001B[49m\n\u001B[1;32m   1640\u001B[0m \u001B[43m    \u001B[49m\u001B[43mdialect\u001B[49m\u001B[43m,\u001B[49m\n\u001B[1;32m   1641\u001B[0m \u001B[43m    \u001B[49m\u001B[43mdialect\u001B[49m\u001B[38;5;241;43m.\u001B[39;49m\u001B[43mexecution_ctx_cls\u001B[49m\u001B[38;5;241;43m.\u001B[39;49m\u001B[43m_init_compiled\u001B[49m\u001B[43m,\u001B[49m\n\u001B[1;32m   1642\u001B[0m \u001B[43m    \u001B[49m\u001B[43mcompiled_sql\u001B[49m\u001B[43m,\u001B[49m\n\u001B[1;32m   1643\u001B[0m \u001B[43m    \u001B[49m\u001B[43mdistilled_parameters\u001B[49m\u001B[43m,\u001B[49m\n\u001B[1;32m   1644\u001B[0m \u001B[43m    \u001B[49m\u001B[43mexecution_options\u001B[49m\u001B[43m,\u001B[49m\n\u001B[1;32m   1645\u001B[0m \u001B[43m    \u001B[49m\u001B[43mcompiled_sql\u001B[49m\u001B[43m,\u001B[49m\n\u001B[1;32m   1646\u001B[0m \u001B[43m    \u001B[49m\u001B[43mdistilled_parameters\u001B[49m\u001B[43m,\u001B[49m\n\u001B[1;32m   1647\u001B[0m \u001B[43m    \u001B[49m\u001B[43melem\u001B[49m\u001B[43m,\u001B[49m\n\u001B[1;32m   1648\u001B[0m \u001B[43m    \u001B[49m\u001B[43mextracted_params\u001B[49m\u001B[43m,\u001B[49m\n\u001B[1;32m   1649\u001B[0m \u001B[43m    \u001B[49m\u001B[43mcache_hit\u001B[49m\u001B[38;5;241;43m=\u001B[39;49m\u001B[43mcache_hit\u001B[49m\u001B[43m,\u001B[49m\n\u001B[1;32m   1650\u001B[0m \u001B[43m\u001B[49m\u001B[43m)\u001B[49m\n\u001B[1;32m   1651\u001B[0m \u001B[38;5;28;01mif\u001B[39;00m has_events:\n\u001B[1;32m   1652\u001B[0m     \u001B[38;5;28mself\u001B[39m\u001B[38;5;241m.\u001B[39mdispatch\u001B[38;5;241m.\u001B[39mafter_execute(\n\u001B[1;32m   1653\u001B[0m         \u001B[38;5;28mself\u001B[39m,\n\u001B[1;32m   1654\u001B[0m         elem,\n\u001B[0;32m   (...)\u001B[0m\n\u001B[1;32m   1658\u001B[0m         ret,\n\u001B[1;32m   1659\u001B[0m     )\n",
      "File \u001B[0;32m~/Projects/repos/group-1/db23-project-venv/lib/python3.11/site-packages/sqlalchemy/engine/base.py:1843\u001B[0m, in \u001B[0;36mConnection._execute_context\u001B[0;34m(self, dialect, constructor, statement, parameters, execution_options, *args, **kw)\u001B[0m\n\u001B[1;32m   1840\u001B[0m context\u001B[38;5;241m.\u001B[39mpre_exec()\n\u001B[1;32m   1842\u001B[0m \u001B[38;5;28;01mif\u001B[39;00m context\u001B[38;5;241m.\u001B[39mexecute_style \u001B[38;5;129;01mis\u001B[39;00m ExecuteStyle\u001B[38;5;241m.\u001B[39mINSERTMANYVALUES:\n\u001B[0;32m-> 1843\u001B[0m     \u001B[38;5;28;01mreturn\u001B[39;00m \u001B[38;5;28;43mself\u001B[39;49m\u001B[38;5;241;43m.\u001B[39;49m\u001B[43m_exec_insertmany_context\u001B[49m\u001B[43m(\u001B[49m\n\u001B[1;32m   1844\u001B[0m \u001B[43m        \u001B[49m\u001B[43mdialect\u001B[49m\u001B[43m,\u001B[49m\n\u001B[1;32m   1845\u001B[0m \u001B[43m        \u001B[49m\u001B[43mcontext\u001B[49m\u001B[43m,\u001B[49m\n\u001B[1;32m   1846\u001B[0m \u001B[43m    \u001B[49m\u001B[43m)\u001B[49m\n\u001B[1;32m   1847\u001B[0m \u001B[38;5;28;01melse\u001B[39;00m:\n\u001B[1;32m   1848\u001B[0m     \u001B[38;5;28;01mreturn\u001B[39;00m \u001B[38;5;28mself\u001B[39m\u001B[38;5;241m.\u001B[39m_exec_single_context(\n\u001B[1;32m   1849\u001B[0m         dialect, context, statement, parameters\n\u001B[1;32m   1850\u001B[0m     )\n",
      "File \u001B[0;32m~/Projects/repos/group-1/db23-project-venv/lib/python3.11/site-packages/sqlalchemy/engine/base.py:2120\u001B[0m, in \u001B[0;36mConnection._exec_insertmany_context\u001B[0;34m(self, dialect, context)\u001B[0m\n\u001B[1;32m   2112\u001B[0m         dialect\u001B[38;5;241m.\u001B[39mdo_execute(\n\u001B[1;32m   2113\u001B[0m             cursor,\n\u001B[1;32m   2114\u001B[0m             sub_stmt,\n\u001B[1;32m   2115\u001B[0m             sub_params,\n\u001B[1;32m   2116\u001B[0m             context,\n\u001B[1;32m   2117\u001B[0m         )\n\u001B[1;32m   2119\u001B[0m \u001B[38;5;28;01mexcept\u001B[39;00m \u001B[38;5;167;01mBaseException\u001B[39;00m \u001B[38;5;28;01mas\u001B[39;00m e:\n\u001B[0;32m-> 2120\u001B[0m     \u001B[38;5;28;43mself\u001B[39;49m\u001B[38;5;241;43m.\u001B[39;49m\u001B[43m_handle_dbapi_exception\u001B[49m\u001B[43m(\u001B[49m\n\u001B[1;32m   2121\u001B[0m \u001B[43m        \u001B[49m\u001B[43me\u001B[49m\u001B[43m,\u001B[49m\n\u001B[1;32m   2122\u001B[0m \u001B[43m        \u001B[49m\u001B[43msql_util\u001B[49m\u001B[38;5;241;43m.\u001B[39;49m\u001B[43m_long_statement\u001B[49m\u001B[43m(\u001B[49m\u001B[43msub_stmt\u001B[49m\u001B[43m)\u001B[49m\u001B[43m,\u001B[49m\n\u001B[1;32m   2123\u001B[0m \u001B[43m        \u001B[49m\u001B[43msub_params\u001B[49m\u001B[43m,\u001B[49m\n\u001B[1;32m   2124\u001B[0m \u001B[43m        \u001B[49m\u001B[43mcursor\u001B[49m\u001B[43m,\u001B[49m\n\u001B[1;32m   2125\u001B[0m \u001B[43m        \u001B[49m\u001B[43mcontext\u001B[49m\u001B[43m,\u001B[49m\n\u001B[1;32m   2126\u001B[0m \u001B[43m        \u001B[49m\u001B[43mis_sub_exec\u001B[49m\u001B[38;5;241;43m=\u001B[39;49m\u001B[38;5;28;43;01mTrue\u001B[39;49;00m\u001B[43m,\u001B[49m\n\u001B[1;32m   2127\u001B[0m \u001B[43m    \u001B[49m\u001B[43m)\u001B[49m\n\u001B[1;32m   2129\u001B[0m \u001B[38;5;28;01mif\u001B[39;00m engine_events:\n\u001B[1;32m   2130\u001B[0m     \u001B[38;5;28mself\u001B[39m\u001B[38;5;241m.\u001B[39mdispatch\u001B[38;5;241m.\u001B[39mafter_cursor_execute(\n\u001B[1;32m   2131\u001B[0m         \u001B[38;5;28mself\u001B[39m,\n\u001B[1;32m   2132\u001B[0m         cursor,\n\u001B[0;32m   (...)\u001B[0m\n\u001B[1;32m   2136\u001B[0m         context\u001B[38;5;241m.\u001B[39mexecutemany,\n\u001B[1;32m   2137\u001B[0m     )\n",
      "File \u001B[0;32m~/Projects/repos/group-1/db23-project-venv/lib/python3.11/site-packages/sqlalchemy/engine/base.py:2343\u001B[0m, in \u001B[0;36mConnection._handle_dbapi_exception\u001B[0;34m(self, e, statement, parameters, cursor, context, is_sub_exec)\u001B[0m\n\u001B[1;32m   2341\u001B[0m \u001B[38;5;28;01melif\u001B[39;00m should_wrap:\n\u001B[1;32m   2342\u001B[0m     \u001B[38;5;28;01massert\u001B[39;00m sqlalchemy_exception \u001B[38;5;129;01mis\u001B[39;00m \u001B[38;5;129;01mnot\u001B[39;00m \u001B[38;5;28;01mNone\u001B[39;00m\n\u001B[0;32m-> 2343\u001B[0m     \u001B[38;5;28;01mraise\u001B[39;00m sqlalchemy_exception\u001B[38;5;241m.\u001B[39mwith_traceback(exc_info[\u001B[38;5;241m2\u001B[39m]) \u001B[38;5;28;01mfrom\u001B[39;00m \u001B[38;5;21;01me\u001B[39;00m\n\u001B[1;32m   2344\u001B[0m \u001B[38;5;28;01melse\u001B[39;00m:\n\u001B[1;32m   2345\u001B[0m     \u001B[38;5;28;01massert\u001B[39;00m exc_info[\u001B[38;5;241m1\u001B[39m] \u001B[38;5;129;01mis\u001B[39;00m \u001B[38;5;129;01mnot\u001B[39;00m \u001B[38;5;28;01mNone\u001B[39;00m\n",
      "File \u001B[0;32m~/Projects/repos/group-1/db23-project-venv/lib/python3.11/site-packages/sqlalchemy/engine/base.py:2112\u001B[0m, in \u001B[0;36mConnection._exec_insertmany_context\u001B[0;34m(self, dialect, context)\u001B[0m\n\u001B[1;32m   2110\u001B[0m             \u001B[38;5;28;01mbreak\u001B[39;00m\n\u001B[1;32m   2111\u001B[0m     \u001B[38;5;28;01melse\u001B[39;00m:\n\u001B[0;32m-> 2112\u001B[0m         \u001B[43mdialect\u001B[49m\u001B[38;5;241;43m.\u001B[39;49m\u001B[43mdo_execute\u001B[49m\u001B[43m(\u001B[49m\n\u001B[1;32m   2113\u001B[0m \u001B[43m            \u001B[49m\u001B[43mcursor\u001B[49m\u001B[43m,\u001B[49m\n\u001B[1;32m   2114\u001B[0m \u001B[43m            \u001B[49m\u001B[43msub_stmt\u001B[49m\u001B[43m,\u001B[49m\n\u001B[1;32m   2115\u001B[0m \u001B[43m            \u001B[49m\u001B[43msub_params\u001B[49m\u001B[43m,\u001B[49m\n\u001B[1;32m   2116\u001B[0m \u001B[43m            \u001B[49m\u001B[43mcontext\u001B[49m\u001B[43m,\u001B[49m\n\u001B[1;32m   2117\u001B[0m \u001B[43m        \u001B[49m\u001B[43m)\u001B[49m\n\u001B[1;32m   2119\u001B[0m \u001B[38;5;28;01mexcept\u001B[39;00m \u001B[38;5;167;01mBaseException\u001B[39;00m \u001B[38;5;28;01mas\u001B[39;00m e:\n\u001B[1;32m   2120\u001B[0m     \u001B[38;5;28mself\u001B[39m\u001B[38;5;241m.\u001B[39m_handle_dbapi_exception(\n\u001B[1;32m   2121\u001B[0m         e,\n\u001B[1;32m   2122\u001B[0m         sql_util\u001B[38;5;241m.\u001B[39m_long_statement(sub_stmt),\n\u001B[0;32m   (...)\u001B[0m\n\u001B[1;32m   2126\u001B[0m         is_sub_exec\u001B[38;5;241m=\u001B[39m\u001B[38;5;28;01mTrue\u001B[39;00m,\n\u001B[1;32m   2127\u001B[0m     )\n",
      "File \u001B[0;32m~/Projects/repos/group-1/db23-project-venv/lib/python3.11/site-packages/sqlalchemy/engine/default.py:922\u001B[0m, in \u001B[0;36mDefaultDialect.do_execute\u001B[0;34m(self, cursor, statement, parameters, context)\u001B[0m\n\u001B[1;32m    921\u001B[0m \u001B[38;5;28;01mdef\u001B[39;00m \u001B[38;5;21mdo_execute\u001B[39m(\u001B[38;5;28mself\u001B[39m, cursor, statement, parameters, context\u001B[38;5;241m=\u001B[39m\u001B[38;5;28;01mNone\u001B[39;00m):\n\u001B[0;32m--> 922\u001B[0m     \u001B[43mcursor\u001B[49m\u001B[38;5;241;43m.\u001B[39;49m\u001B[43mexecute\u001B[49m\u001B[43m(\u001B[49m\u001B[43mstatement\u001B[49m\u001B[43m,\u001B[49m\u001B[43m \u001B[49m\u001B[43mparameters\u001B[49m\u001B[43m)\u001B[49m\n",
      "\u001B[0;31mProgrammingError\u001B[0m: (psycopg2.ProgrammingError) can't adapt type 'Point'\n[SQL: INSERT INTO table_name (\"AccidentUID\", \"AccidentHour\", \"AccidentYear\", \"AccidentWeekDay_en\", \"AccidentType\", \"AccidentSeverityCategory\", \"AccidentInvolvingPedestrian\", \"AccidentInvolvingBicycle\", \"AccidentInvolvingMotorcycle\", \"RoadType\", \"RoadType_e ... 398437 characters truncated ... n__999)s, %(AccidentLocation_CHLV95_E__999)s, %(AccidentLocation_CHLV95_N__999)s, %(geometry__999)s)]\n[parameters: {'AccidentYear__0': '2011', 'AccidentLocation_CHLV95_N__0': '1245194', 'AccidentType__0': 'at0', 'AccidentSeverityCategory__0': 'as4', 'RoadType_en__0': 'Minor road', 'AccidentLocation_CHLV95_E__0': '2684605', 'AccidentWeekDay_en__0': 'Saturday', 'AccidentInvolvingMotorcycle__0': 'false', 'RoadType__0': 'rt433', 'AccidentUID__0': 'A2D2677533867004E0430A865E337004', 'AccidentInvolvingPedestrian__0': 'false', 'AccidentHour__0': '00', 'geometry__0': <POINT Z (8.558 47.352 0)>, 'AccidentInvolvingBicycle__0': 'false', 'AccidentYear__1': '2011', 'AccidentLocation_CHLV95_N__1': '1246980', 'AccidentType__1': 'at0', 'AccidentSeverityCategory__1': 'as3', 'RoadType_en__1': 'Minor road', 'AccidentLocation_CHLV95_E__1': '2682382', 'AccidentWeekDay_en__1': 'Saturday', 'AccidentInvolvingMotorcycle__1': 'false', 'RoadType__1': 'rt433', 'AccidentUID__1': '9FD6441F802C20A6E0430A865E3320A6', 'AccidentInvolvingPedestrian__1': 'false', 'AccidentHour__1': '01', 'geometry__1': <POINT Z (8.529 47.369 0)>, 'AccidentInvolvingBicycle__1': 'true', 'AccidentYear__2': '2011', 'AccidentLocation_CHLV95_N__2': '1247749', 'AccidentType__2': 'at0', 'AccidentSeverityCategory__2': 'as4', 'RoadType_en__2': 'Other', 'AccidentLocation_CHLV95_E__2': '2682791', 'AccidentWeekDay_en__2': 'Saturday', 'AccidentInvolvingMotorcycle__2': 'false', 'RoadType__2': 'rt439', 'AccidentUID__2': '9FDA0DC4856A6094E0430A865E336094', 'AccidentInvolvingPedestrian__2': 'false', 'AccidentHour__2': '02', 'geometry__2': <POINT Z (8.535 47.375 0)>, 'AccidentInvolvingBicycle__2': 'false', 'AccidentYear__3': '2011', 'AccidentLocation_CHLV95_N__3': '1247102', 'AccidentType__3': 'at5', 'AccidentSeverityCategory__3': 'as3', 'RoadType_en__3': 'Minor road', 'AccidentLocation_CHLV95_E__3': '2681199', 'AccidentWeekDay_en__3': 'Saturday', 'AccidentInvolvingMotorcycle__3': 'false' ... 13900 parameters truncated ... 'AccidentWeekDay_en__996': 'Tuesday', 'AccidentInvolvingMotorcycle__996': 'false', 'RoadType__996': 'rt433', 'AccidentUID__996': 'A5D2C4A55E38707EE0430A865E33707E', 'AccidentInvolvingPedestrian__996': 'false', 'AccidentHour__996': '08', 'geometry__996': <POINT Z (8.539 47.377 0)>, 'AccidentInvolvingBicycle__996': 'false', 'AccidentYear__997': '2011', 'AccidentLocation_CHLV95_N__997': '1251718', 'AccidentType__997': 'at2', 'AccidentSeverityCategory__997': 'as3', 'RoadType_en__997': 'Principal road', 'AccidentLocation_CHLV95_E__997': '2685190', 'AccidentWeekDay_en__997': 'Tuesday', 'AccidentInvolvingMotorcycle__997': 'false', 'RoadType__997': 'rt432', 'AccidentUID__997': 'A5F1841A36B070AEE0430A865E3370AE', 'AccidentInvolvingPedestrian__997': 'false', 'AccidentHour__997': '11', 'geometry__997': <POINT Z (8.567 47.411 0)>, 'AccidentInvolvingBicycle__997': 'false', 'AccidentYear__998': '2011', 'AccidentLocation_CHLV95_N__998': '1246106', 'AccidentType__998': 'at2', 'AccidentSeverityCategory__998': 'as4', 'RoadType_en__998': 'Principal road', 'AccidentLocation_CHLV95_E__998': '2685329', 'AccidentWeekDay_en__998': 'Tuesday', 'AccidentInvolvingMotorcycle__998': 'false', 'RoadType__998': 'rt432', 'AccidentUID__998': 'A5E25678EDD7505EE0430A865E33505E', 'AccidentInvolvingPedestrian__998': 'false', 'AccidentHour__998': '14', 'geometry__998': <POINT Z (8.568 47.36 0)>, 'AccidentInvolvingBicycle__998': 'false', 'AccidentYear__999': '2011', 'AccidentLocation_CHLV95_N__999': '1251852', 'AccidentType__999': 'at00', 'AccidentSeverityCategory__999': 'as3', 'RoadType_en__999': 'Principal road', 'AccidentLocation_CHLV95_E__999': '2683606', 'AccidentWeekDay_en__999': 'Tuesday', 'AccidentInvolvingMotorcycle__999': 'false', 'RoadType__999': 'rt432', 'AccidentUID__999': 'A6431CCEC810E09CE0430A865E33E09C', 'AccidentInvolvingPedestrian__999': 'false', 'AccidentHour__999': '16', 'geometry__999': <POINT Z (8.546 47.412 0)>, 'AccidentInvolvingBicycle__999': 'false'}]\n(Background on this error at: https://sqlalche.me/e/20/f405)"
     ]
    }
   ],
   "source": [
    "from sqlalchemy import create_engine\n",
    "\n",
    "db_url = f'postgresql://seb:@localhost:5432/test-db23'\n",
    "engine =  create_engine(db_url)\n",
    "\n",
    "#miv_df.to_sql('table_name', engine, if_exists='replace', index=False)\n",
    "#fb_data.to_sql('footbike', engine, if_exists='replace', index=False)\n",
    "acc_df.to_sql('table_name', engine, if_exists='replace', index=False)\n"
   ],
   "metadata": {
    "collapsed": false,
    "ExecuteTime": {
     "end_time": "2023-12-02T22:27:41.753420Z",
     "start_time": "2023-12-02T22:27:40.962764Z"
    }
   },
   "id": "fa76af8343443d7a"
  },
  {
   "cell_type": "code",
   "execution_count": 16,
   "outputs": [],
   "source": [
    "engine.dispose()"
   ],
   "metadata": {
    "collapsed": false,
    "ExecuteTime": {
     "end_time": "2023-12-02T22:26:54.275225Z",
     "start_time": "2023-12-02T22:26:54.273410Z"
    }
   },
   "id": "bc0a23a5126e76c2"
  }
 ],
 "metadata": {
  "kernelspec": {
   "display_name": "Python 3",
   "language": "python",
   "name": "python3"
  },
  "language_info": {
   "codemirror_mode": {
    "name": "ipython",
    "version": 2
   },
   "file_extension": ".py",
   "mimetype": "text/x-python",
   "name": "python",
   "nbconvert_exporter": "python",
   "pygments_lexer": "ipython2",
   "version": "2.7.6"
  }
 },
 "nbformat": 4,
 "nbformat_minor": 5
}
