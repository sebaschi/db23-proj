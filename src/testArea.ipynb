{
 "cells": [
  {
   "cell_type": "code",
   "execution_count": 1,
   "outputs": [],
   "source": [
    "import pandas as pd\n",
    "from datetime import datetime as dt\n",
    "\n",
    "import integrate as intr\n",
    "\n"
   ],
   "metadata": {
    "collapsed": false,
    "ExecuteTime": {
     "end_time": "2023-12-03T15:47:10.110909Z",
     "start_time": "2023-12-03T15:47:09.656556Z"
    }
   },
   "id": "be55b25929d95559"
  },
  {
   "cell_type": "code",
   "execution_count": 2,
   "outputs": [
    {
     "name": "stderr",
     "output_type": "stream",
     "text": [
      "/Users/seb/Projects/repos/group-1/src/integrate.py:132: SettingWithCopyWarning: \n",
      "A value is trying to be set on a copy of a slice from a DataFrame.\n",
      "Try using .loc[row_indexer,col_indexer] = value instead\n",
      "\n",
      "See the caveats in the documentation: https://pandas.pydata.org/pandas-docs/stable/user_guide/indexing.html#returning-a-view-versus-a-copy\n",
      "  miv_df_cols_dropped['Weekday_en'] = days.map(lambda x: weekday_names[x])\n",
      "/Users/seb/Projects/repos/group-1/src/integrate.py:133: SettingWithCopyWarning: \n",
      "A value is trying to be set on a copy of a slice from a DataFrame.\n",
      "Try using .loc[row_indexer,col_indexer] = value instead\n",
      "\n",
      "See the caveats in the documentation: https://pandas.pydata.org/pandas-docs/stable/user_guide/indexing.html#returning-a-view-versus-a-copy\n",
      "  miv_df_cols_dropped['AnzFahrzeuge'] = miv_df_cols_dropped['AnzFahrzeuge'].fillna(0).astype(int)\n"
     ]
    }
   ],
   "source": [
    "\n",
    "miv_df = intr.process_miv_data()\n",
    "#fb_data = intr.process_foot_bike_data()"
   ],
   "metadata": {
    "collapsed": false,
    "ExecuteTime": {
     "end_time": "2023-12-03T15:49:07.561603Z",
     "start_time": "2023-12-03T15:47:14.759104Z"
    }
   },
   "id": "dd3831953afdeb72"
  },
  {
   "cell_type": "code",
   "execution_count": 6,
   "outputs": [
    {
     "name": "stdout",
     "output_type": "stream",
     "text": [
      "121\n"
     ]
    }
   ],
   "source": [
    "duplicate_rows = miv_df[miv_df.duplicated()]\n",
    "print(duplicate_rows.shape[0])"
   ],
   "metadata": {
    "collapsed": false,
    "ExecuteTime": {
     "end_time": "2023-12-03T15:51:21.158909Z",
     "start_time": "2023-12-03T15:51:15.711222Z"
    }
   },
   "id": "14471cd78389ce4d"
  },
  {
   "cell_type": "code",
   "execution_count": null,
   "outputs": [],
   "source": [
    "acc_df = intr.process_accident_data(True)"
   ],
   "metadata": {
    "collapsed": false
   },
   "id": "f86bc612060b17a4"
  },
  {
   "cell_type": "code",
   "execution_count": null,
   "outputs": [],
   "source": [
    "acc_df.head()\n",
    "acc_df['AccidentWeekDay_en'].unique()\n",
    "#acc_df.dtypes\n",
    "\n"
   ],
   "metadata": {
    "collapsed": false
   },
   "id": "6affbeea6c7cf3ef"
  },
  {
   "cell_type": "code",
   "execution_count": null,
   "outputs": [],
   "source": [
    "print(\"Accident Columns:\")\n",
    "print(acc_df.dtypes)\n",
    "print()\n",
    "print(\"MIV Columns:\")\n",
    "print(miv_df.dtypes)\n",
    "print()\n",
    "print(\"FB Cols:\")\n",
    "print(fb_data.dtypes)"
   ],
   "metadata": {
    "collapsed": false
   },
   "id": "242041cd369d8454"
  },
  {
   "cell_type": "code",
   "execution_count": null,
   "outputs": [],
   "source": [
    "acc_df['ID'] = acc_df.index +1\n",
    "acc_df[('ID')]"
   ],
   "metadata": {
    "collapsed": false
   },
   "id": "1841925ee109a417"
  },
  {
   "cell_type": "code",
   "execution_count": null,
   "outputs": [],
   "source": [
    "print(\"MIV unqiue:\", miv_df['EKoord'])\n",
    "print(\"Acc unique:\", acc_df['RoadType'].unique)\n",
    "print(\"FB unique: \", fb_data['DATE'])\n"
   ],
   "metadata": {
    "collapsed": false
   },
   "id": "f6d752ea17eda341"
  },
  {
   "cell_type": "code",
   "execution_count": null,
   "outputs": [],
   "source": [
    "acc_df.head()"
   ],
   "metadata": {
    "collapsed": false
   },
   "id": "a159cafa9c227b88"
  },
  {
   "cell_type": "code",
   "execution_count": null,
   "outputs": [],
   "source": [
    "from sqlalchemy import create_engine\n",
    "from geoalchemy2 import Geometry, WKTElement\n",
    "import geopandas as gpd\n",
    "from shapely import wkt\n",
    "\n",
    "db_url = f'postgresql://seb:@localhost:5432/test-db23'\n",
    "engine =  create_engine(db_url)\n",
    "\n",
    "#miv_df.to_sql('table_name', engine, if_exists='replace', index=False)\n",
    "#fb_data.to_sql('footbike', engine, if_exists='replace', index=False)\n",
    "\n",
    "geometry_column = 'geometry'\n",
    "\n",
    "\n",
    "acc_df['geometry'] = acc_df['geometry'].apply(lambda geom: WKTElement(geom.wkt, srid=4326))\n",
    "\n",
    "acc_df.to_sql('accidents', engine, if_exists='replace', index=False, dtype={'geometry': Geometry('POINT', srid=4326)})\n",
    "\n"
   ],
   "metadata": {
    "collapsed": false
   },
   "id": "fa76af8343443d7a"
  },
  {
   "cell_type": "code",
   "execution_count": null,
   "outputs": [],
   "source": [
    "engine.dispose()"
   ],
   "metadata": {
    "collapsed": false
   },
   "id": "bc0a23a5126e76c2"
  }
 ],
 "metadata": {
  "kernelspec": {
   "display_name": "Python 3",
   "language": "python",
   "name": "python3"
  },
  "language_info": {
   "codemirror_mode": {
    "name": "ipython",
    "version": 2
   },
   "file_extension": ".py",
   "mimetype": "text/x-python",
   "name": "python",
   "nbconvert_exporter": "python",
   "pygments_lexer": "ipython2",
   "version": "2.7.6"
  }
 },
 "nbformat": 4,
 "nbformat_minor": 5
}
